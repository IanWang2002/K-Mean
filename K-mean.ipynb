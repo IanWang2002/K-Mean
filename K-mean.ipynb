{
 "cells": [
  {
   "cell_type": "code",
   "execution_count": 1,
   "id": "15cf1181",
   "metadata": {},
   "outputs": [
    {
     "name": "stderr",
     "output_type": "stream",
     "text": [
      "/Users/ian/opt/anaconda3/lib/python3.9/site-packages/pandas/core/computation/expressions.py:21: UserWarning: Pandas requires version '2.8.4' or newer of 'numexpr' (version '2.8.1' currently installed).\n",
      "  from pandas.core.computation.check import NUMEXPR_INSTALLED\n",
      "/Users/ian/opt/anaconda3/lib/python3.9/site-packages/pandas/core/arrays/masked.py:60: UserWarning: Pandas requires version '1.3.6' or newer of 'bottleneck' (version '1.3.4' currently installed).\n",
      "  from pandas.core import (\n"
     ]
    }
   ],
   "source": [
    "import pandas as pd\n",
    "import numpy as np\n",
    "import matplotlib.pyplot as plt"
   ]
  },
  {
   "cell_type": "code",
   "execution_count": 2,
   "id": "7fa1f7d0",
   "metadata": {},
   "outputs": [],
   "source": [
    "data = pd.read_csv(\"data.txt\", header=None, names=[\"longitude\", \"latitude\"])"
   ]
  },
  {
   "cell_type": "markdown",
   "id": "71686229",
   "metadata": {},
   "source": [
    "# Functions"
   ]
  },
  {
   "cell_type": "code",
   "execution_count": 4,
   "id": "e509a14d",
   "metadata": {},
   "outputs": [],
   "source": [
    "# Compute the mean of clusters\n",
    "def compute_mean(points):\n",
    "    # points: list of (longitude, latitude)\n",
    "    return np.mean(points, axis=0)\n",
    "\n",
    "def random_centroid(points, k):\n",
    "    # Convert points to numpy\n",
    "    points = np.asarray(points)\n",
    "    initial_indices = np.random.choice(len(points), size=k, replace=False)\n",
    "    centroid = points[initial_indices]\n",
    "    return centroid\n",
    "\n",
    "def compute_new_centroids(points, assignments, k):\n",
    "    \"\"\"\n",
    "    Recompute centroids as the mean of all points assigned to each cluster.\n",
    "\n",
    "    Parameters:\n",
    "        points (np.ndarray): shape (n_points, 2), input coordinates\n",
    "        assignments (list or np.ndarray): cluster labels for each point\n",
    "        k (int): number of clusters\n",
    "\n",
    "    Returns:\n",
    "        np.ndarray: new centroids, shape (k, 2)\n",
    "    \"\"\"\n",
    "    centroids = []\n",
    "    for cluster_id in range(k):\n",
    "        cluster_points = points[np.array(assignments) == cluster_id]\n",
    "        if len(cluster_points) > 0:\n",
    "            centroid = np.mean(cluster_points, axis=0)\n",
    "        else:\n",
    "            centroid = points[np.random.randint(len(points))]\n",
    "        centroids.append(centroid)\n",
    "    return np.array(centroids)\n",
    "\n"
   ]
  },
  {
   "cell_type": "markdown",
   "id": "abc59119",
   "metadata": {},
   "source": [
    "## Step 1: Random Select K Centroids "
   ]
  },
  {
   "cell_type": "code",
   "execution_count": 6,
   "id": "522e33d3",
   "metadata": {},
   "outputs": [
    {
     "data": {
      "text/plain": [
       "array([[-80.5274971,  43.4980824],\n",
       "       [-80.5224956,  43.4697612],\n",
       "       [-80.5256905,  43.4770992]])"
      ]
     },
     "execution_count": 6,
     "metadata": {},
     "output_type": "execute_result"
    }
   ],
   "source": [
    "# K = 3, with 3 initial centroids\n",
    "k_centroid = random_centroid(data, k=3)\n",
    "k_centroid"
   ]
  },
  {
   "cell_type": "markdown",
   "id": "66ce8946",
   "metadata": {},
   "source": [
    "## Step 2: Assign Points to K Clusters"
   ]
  },
  {
   "cell_type": "code",
   "execution_count": 7,
   "id": "8765f88c",
   "metadata": {},
   "outputs": [],
   "source": [
    "# We use Euclidean Distance to get the determine the the closest centroid\n",
    "# sqrt(d1^2 + d2^2)\n",
    "\n",
    "def assign_clusters(points, centroids):\n",
    "    \"\"\"\n",
    "    Assign each point to the index of the nearest centroid.\n",
    "\n",
    "    Parameters:\n",
    "        points: np.ndarray of shape (n_points, 2)\n",
    "        centroids: np.ndarray of shape (k, 2)\n",
    "\n",
    "    Returns:\n",
    "        List of cluster indices (length = n_points)\n",
    "    \"\"\"\n",
    "    \n",
    "    clusters = []\n",
    "    \n",
    "    points = np.asarray(points)\n",
    "    \n",
    "    for p in points:\n",
    "        # Normalization the distances\n",
    "        distances = np.linalg.norm(centroids - p, axis=1)  # shape (k,)\n",
    "        # Calculate which centroid is closest to the point\n",
    "        closest = np.argmin(distances)\n",
    "        clusters.append(closest)\n",
    "    return clusters\n",
    "cluster  = assign_clusters(data, k_centroid)"
   ]
  },
  {
   "cell_type": "code",
   "execution_count": 8,
   "id": "ffa15644",
   "metadata": {},
   "outputs": [
    {
     "data": {
      "text/html": [
       "<div>\n",
       "<style scoped>\n",
       "    .dataframe tbody tr th:only-of-type {\n",
       "        vertical-align: middle;\n",
       "    }\n",
       "\n",
       "    .dataframe tbody tr th {\n",
       "        vertical-align: top;\n",
       "    }\n",
       "\n",
       "    .dataframe thead th {\n",
       "        text-align: right;\n",
       "    }\n",
       "</style>\n",
       "<table border=\"1\" class=\"dataframe\">\n",
       "  <thead>\n",
       "    <tr style=\"text-align: right;\">\n",
       "      <th></th>\n",
       "      <th>longitude</th>\n",
       "      <th>latitude</th>\n",
       "      <th>cluster</th>\n",
       "    </tr>\n",
       "  </thead>\n",
       "  <tbody>\n",
       "    <tr>\n",
       "      <th>0</th>\n",
       "      <td>-112.070792</td>\n",
       "      <td>33.451625</td>\n",
       "      <td>2</td>\n",
       "    </tr>\n",
       "    <tr>\n",
       "      <th>1</th>\n",
       "      <td>-112.065542</td>\n",
       "      <td>33.449298</td>\n",
       "      <td>2</td>\n",
       "    </tr>\n",
       "    <tr>\n",
       "      <th>2</th>\n",
       "      <td>-112.073931</td>\n",
       "      <td>33.456491</td>\n",
       "      <td>2</td>\n",
       "    </tr>\n",
       "    <tr>\n",
       "      <th>3</th>\n",
       "      <td>-112.074866</td>\n",
       "      <td>33.470115</td>\n",
       "      <td>2</td>\n",
       "    </tr>\n",
       "    <tr>\n",
       "      <th>4</th>\n",
       "      <td>-80.525690</td>\n",
       "      <td>43.477099</td>\n",
       "      <td>2</td>\n",
       "    </tr>\n",
       "    <tr>\n",
       "      <th>...</th>\n",
       "      <td>...</td>\n",
       "      <td>...</td>\n",
       "      <td>...</td>\n",
       "    </tr>\n",
       "    <tr>\n",
       "      <th>295</th>\n",
       "      <td>-112.073296</td>\n",
       "      <td>33.479418</td>\n",
       "      <td>2</td>\n",
       "    </tr>\n",
       "    <tr>\n",
       "      <th>296</th>\n",
       "      <td>-112.066920</td>\n",
       "      <td>33.467027</td>\n",
       "      <td>2</td>\n",
       "    </tr>\n",
       "    <tr>\n",
       "      <th>297</th>\n",
       "      <td>-112.073385</td>\n",
       "      <td>33.469104</td>\n",
       "      <td>2</td>\n",
       "    </tr>\n",
       "    <tr>\n",
       "      <th>298</th>\n",
       "      <td>-80.534048</td>\n",
       "      <td>43.472892</td>\n",
       "      <td>2</td>\n",
       "    </tr>\n",
       "    <tr>\n",
       "      <th>299</th>\n",
       "      <td>-112.069318</td>\n",
       "      <td>33.465718</td>\n",
       "      <td>2</td>\n",
       "    </tr>\n",
       "  </tbody>\n",
       "</table>\n",
       "<p>300 rows × 3 columns</p>\n",
       "</div>"
      ],
      "text/plain": [
       "      longitude   latitude  cluster\n",
       "0   -112.070792  33.451625        2\n",
       "1   -112.065542  33.449298        2\n",
       "2   -112.073931  33.456491        2\n",
       "3   -112.074866  33.470115        2\n",
       "4    -80.525690  43.477099        2\n",
       "..          ...        ...      ...\n",
       "295 -112.073296  33.479418        2\n",
       "296 -112.066920  33.467027        2\n",
       "297 -112.073385  33.469104        2\n",
       "298  -80.534048  43.472892        2\n",
       "299 -112.069318  33.465718        2\n",
       "\n",
       "[300 rows x 3 columns]"
      ]
     },
     "execution_count": 8,
     "metadata": {},
     "output_type": "execute_result"
    }
   ],
   "source": [
    "df = data\n",
    "df[\"cluster\"] = cluster\n",
    "df"
   ]
  },
  {
   "cell_type": "markdown",
   "id": "cb67d8c9",
   "metadata": {},
   "source": [
    "## Step 4: Converegence Criterion"
   ]
  },
  {
   "cell_type": "code",
   "execution_count": 33,
   "id": "b6f927a1",
   "metadata": {},
   "outputs": [
    {
     "name": "stdout",
     "output_type": "stream",
     "text": [
      "Converged at iteration 2, centroid shift: 0.000000000\n"
     ]
    }
   ],
   "source": [
    "threshold = 1e-6  # convergence tolerance\n",
    "max_iter = 100\n",
    "\n",
    "k_centroid = random_centroid(data, k=3)  # initial centroids\n",
    "\n",
    "for i in range(max_iter):\n",
    "    cluster = assign_clusters(data, k_centroid)\n",
    "    new_centroids = compute_new_centroids(data, cluster, k=3)\n",
    "\n",
    "    # Compute how much centroids moved\n",
    "    shift = np.linalg.norm(new_centroids - k_centroid)\n",
    "\n",
    "    if shift < threshold:\n",
    "        print(f\"Converged at iteration {i}, centroid shift: {shift:.9f}\")\n",
    "        break\n",
    "\n",
    "    k_centroid = new_centroids  # update for next iteration\n",
    "\n",
    "else:\n",
    "    print(\"Did not converge within max_iter\")\n"
   ]
  },
  {
   "cell_type": "code",
   "execution_count": 34,
   "id": "ab2b05c0",
   "metadata": {},
   "outputs": [
    {
     "data": {
      "text/html": [
       "<div>\n",
       "<style scoped>\n",
       "    .dataframe tbody tr th:only-of-type {\n",
       "        vertical-align: middle;\n",
       "    }\n",
       "\n",
       "    .dataframe tbody tr th {\n",
       "        vertical-align: top;\n",
       "    }\n",
       "\n",
       "    .dataframe thead th {\n",
       "        text-align: right;\n",
       "    }\n",
       "</style>\n",
       "<table border=\"1\" class=\"dataframe\">\n",
       "  <thead>\n",
       "    <tr style=\"text-align: right;\">\n",
       "      <th></th>\n",
       "      <th>longitude</th>\n",
       "      <th>latitude</th>\n",
       "      <th>cluster</th>\n",
       "    </tr>\n",
       "  </thead>\n",
       "  <tbody>\n",
       "    <tr>\n",
       "      <th>0</th>\n",
       "      <td>-112.070792</td>\n",
       "      <td>33.451625</td>\n",
       "      <td>2</td>\n",
       "    </tr>\n",
       "    <tr>\n",
       "      <th>1</th>\n",
       "      <td>-112.065542</td>\n",
       "      <td>33.449298</td>\n",
       "      <td>2</td>\n",
       "    </tr>\n",
       "    <tr>\n",
       "      <th>2</th>\n",
       "      <td>-112.073931</td>\n",
       "      <td>33.456491</td>\n",
       "      <td>2</td>\n",
       "    </tr>\n",
       "    <tr>\n",
       "      <th>3</th>\n",
       "      <td>-112.074866</td>\n",
       "      <td>33.470115</td>\n",
       "      <td>2</td>\n",
       "    </tr>\n",
       "    <tr>\n",
       "      <th>4</th>\n",
       "      <td>-80.525690</td>\n",
       "      <td>43.477099</td>\n",
       "      <td>1</td>\n",
       "    </tr>\n",
       "    <tr>\n",
       "      <th>...</th>\n",
       "      <td>...</td>\n",
       "      <td>...</td>\n",
       "      <td>...</td>\n",
       "    </tr>\n",
       "    <tr>\n",
       "      <th>295</th>\n",
       "      <td>-112.073296</td>\n",
       "      <td>33.479418</td>\n",
       "      <td>2</td>\n",
       "    </tr>\n",
       "    <tr>\n",
       "      <th>296</th>\n",
       "      <td>-112.066920</td>\n",
       "      <td>33.467027</td>\n",
       "      <td>2</td>\n",
       "    </tr>\n",
       "    <tr>\n",
       "      <th>297</th>\n",
       "      <td>-112.073385</td>\n",
       "      <td>33.469104</td>\n",
       "      <td>2</td>\n",
       "    </tr>\n",
       "    <tr>\n",
       "      <th>298</th>\n",
       "      <td>-80.534048</td>\n",
       "      <td>43.472892</td>\n",
       "      <td>1</td>\n",
       "    </tr>\n",
       "    <tr>\n",
       "      <th>299</th>\n",
       "      <td>-112.069318</td>\n",
       "      <td>33.465718</td>\n",
       "      <td>2</td>\n",
       "    </tr>\n",
       "  </tbody>\n",
       "</table>\n",
       "<p>300 rows × 3 columns</p>\n",
       "</div>"
      ],
      "text/plain": [
       "      longitude   latitude  cluster\n",
       "0   -112.070792  33.451625        2\n",
       "1   -112.065542  33.449298        2\n",
       "2   -112.073931  33.456491        2\n",
       "3   -112.074866  33.470115        2\n",
       "4    -80.525690  43.477099        1\n",
       "..          ...        ...      ...\n",
       "295 -112.073296  33.479418        2\n",
       "296 -112.066920  33.467027        2\n",
       "297 -112.073385  33.469104        2\n",
       "298  -80.534048  43.472892        1\n",
       "299 -112.069318  33.465718        2\n",
       "\n",
       "[300 rows x 3 columns]"
      ]
     },
     "execution_count": 34,
     "metadata": {},
     "output_type": "execute_result"
    }
   ],
   "source": [
    "# In to a data frame\n",
    "df = data\n",
    "df[\"cluster\"] = cluster\n",
    "df"
   ]
  },
  {
   "cell_type": "code",
   "execution_count": 35,
   "id": "c43152ca",
   "metadata": {},
   "outputs": [
    {
     "data": {
      "image/png": "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\n",
      "text/plain": [
       "<Figure size 576x432 with 1 Axes>"
      ]
     },
     "metadata": {
      "needs_background": "light"
     },
     "output_type": "display_data"
    }
   ],
   "source": [
    "# Plot the clusters\n",
    "\n",
    "plt.figure(figsize=(8, 6))\n",
    "\n",
    "# Plot each cluster separately for labeled legend\n",
    "for cluster_id in sorted(data[\"cluster\"].unique()):\n",
    "    cluster_points = data[data[\"cluster\"] == cluster_id]\n",
    "    plt.scatter(\n",
    "        cluster_points[\"longitude\"],\n",
    "        cluster_points[\"latitude\"],\n",
    "        marker='x',\n",
    "        s=50,\n",
    "        label=f\"Cluster {cluster_id}\"\n",
    "    )\n",
    "\n",
    "plt.xlabel(\"Longitude\")\n",
    "plt.ylabel(\"Latitude\")\n",
    "plt.title(\"K-means Clustering of Locations\")\n",
    "plt.legend()\n",
    "plt.grid(True)\n",
    "plt.show()"
   ]
  },
  {
   "cell_type": "code",
   "execution_count": null,
   "id": "44658faf",
   "metadata": {},
   "outputs": [],
   "source": []
  },
 "metadata": {
  "kernelspec": {
   "display_name": "Python 3 (ipykernel)",
   "language": "python",
   "name": "python3"
  },
  "language_info": {
   "codemirror_mode": {
    "name": "ipython",
    "version": 3
   },
   "file_extension": ".py",
   "mimetype": "text/x-python",
   "name": "python",
   "nbconvert_exporter": "python",
   "pygments_lexer": "ipython3",
   "version": "3.9.12"
  }
 },
 "nbformat": 4,
 "nbformat_minor": 5
}
